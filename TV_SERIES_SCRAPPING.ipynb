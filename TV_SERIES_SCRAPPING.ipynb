{
 "cells": [
  {
   "cell_type": "markdown",
   "id": "0996bf91",
   "metadata": {},
   "source": [
    "# Imports"
   ]
  },
  {
   "cell_type": "code",
   "execution_count": 3,
   "id": "e89355d9",
   "metadata": {
    "ExecuteTime": {
     "end_time": "2022-06-22T01:39:57.489797Z",
     "start_time": "2022-06-22T01:39:57.465811Z"
    }
   },
   "outputs": [],
   "source": [
    "from selenium import webdriver\n",
    "from selenium.webdriver.chrome.service import Service\n",
    "from webdriver_manager.chrome import ChromeDriverManager\n",
    "from selenium.webdriver.common.keys import Keys\n",
    "from selenium.webdriver.support import expected_conditions as EC\n",
    "from selenium.webdriver.common.by import By\n",
    "from selenium.webdriver.support.wait import WebDriverWait\n",
    "from selenium.webdriver.common.action_chains import ActionChains\n",
    "from selenium.webdriver.common.keys import Keys\n",
    "import time\n",
    "import os\n",
    "import wget\n",
    "from bs4 import BeautifulSoup, SoupStrainer\n",
    "import pandas as pd\n",
    "import re\n",
    "from concurrent.futures import ThreadPoolExecutor\n",
    "import requests\n",
    "import json\n",
    "import os\n",
    "import shutil"
   ]
  },
  {
   "cell_type": "markdown",
   "id": "d4eefa8d",
   "metadata": {},
   "source": [
    "## Setting up webdriver"
   ]
  },
  {
   "cell_type": "code",
   "execution_count": 4,
   "id": "bf2b1dac",
   "metadata": {
    "ExecuteTime": {
     "end_time": "2022-06-22T01:40:14.660843Z",
     "start_time": "2022-06-22T01:39:58.913142Z"
    }
   },
   "outputs": [],
   "source": [
    "path_of_chromedriver = \"D:/Softwares/chromedriver_win32/chromedriver.exe\"\n",
    "\n",
    "service = Service(path_of_chromedriver)\n",
    "op = webdriver.ChromeOptions()\n",
    "driver = webdriver.Chrome(service=service , options=op)\n",
    "\n",
    "link = \"https://www.mov.onl/search/label/TV%20Series\"\n",
    "driver.get(link)\n",
    "time.sleep(10)"
   ]
  },
  {
   "cell_type": "markdown",
   "id": "b9bd73ea",
   "metadata": {
    "ExecuteTime": {
     "end_time": "2022-06-21T12:55:49.371976Z",
     "start_time": "2022-06-21T12:55:49.362982Z"
    }
   },
   "source": [
    "### Scrolling page all the way down"
   ]
  },
  {
   "cell_type": "code",
   "execution_count": 5,
   "id": "7c960123",
   "metadata": {
    "ExecuteTime": {
     "end_time": "2022-06-22T01:41:56.195209Z",
     "start_time": "2022-06-22T01:40:15.139647Z"
    }
   },
   "outputs": [],
   "source": [
    "scroll = True\n",
    "\n",
    "while scroll==True:\n",
    "    \n",
    "    height = driver.execute_script(\"return document.body.scrollHeight\")\n",
    "    \n",
    "    for i in range(10):\n",
    "        driver.execute_script(\"window.scrollTo(0, document.body.scrollHeight);\")\n",
    "        time.sleep(2)\n",
    "    \n",
    "    \n",
    "    new_height = driver.execute_script(\"return document.body.scrollHeight\")\n",
    "    \n",
    "    if new_height==height:\n",
    "        scroll=False\n",
    "\n"
   ]
  },
  {
   "cell_type": "markdown",
   "id": "52a24527",
   "metadata": {},
   "source": [
    "## Storing the link of each TV Show in LIST"
   ]
  },
  {
   "cell_type": "code",
   "execution_count": 6,
   "id": "b8e349aa",
   "metadata": {
    "ExecuteTime": {
     "end_time": "2022-06-22T01:41:58.354233Z",
     "start_time": "2022-06-22T01:41:57.814565Z"
    }
   },
   "outputs": [
    {
     "name": "stdout",
     "output_type": "stream",
     "text": [
      "Number of Shows: 132\n",
      "Number of Shows Name: 132\n"
     ]
    }
   ],
   "source": [
    "html = driver.page_source\n",
    "strainer = SoupStrainer('div', attrs={\"id\":\"fold\"})\n",
    "soup = BeautifulSoup(html, 'html.parser', parse_only=strainer)\n",
    "\n",
    "\n",
    "series_divs = soup.find_all('div', class_='story')\n",
    "\n",
    "LINKS = []\n",
    "SHOW_NAMES = []\n",
    "for i in series_divs:\n",
    "    link = i.find('h3', class_='title entry-title').a['href']\n",
    "    name = i.find('h3', class_='title entry-title').a.text\n",
    "    LINKS.append(link)\n",
    "    SHOW_NAMES.append(name)\n",
    "    \n",
    "# driver.close()\n",
    "print(\"Number of Shows:\", len(LINKS))\n",
    "print(\"Number of Shows Name:\", len(SHOW_NAMES))"
   ]
  },
  {
   "cell_type": "markdown",
   "id": "527322fc",
   "metadata": {},
   "source": [
    "## Let's go to the each SHOW and retrieve download links of Episodes."
   ]
  },
  {
   "cell_type": "code",
   "execution_count": 22,
   "id": "ae95cd50",
   "metadata": {
    "ExecuteTime": {
     "end_time": "2022-06-22T02:03:26.895048Z",
     "start_time": "2022-06-22T02:03:26.888064Z"
    }
   },
   "outputs": [],
   "source": [
    "download_links_list = [] # nested list\n",
    "episodes_name_list = [] # nested list"
   ]
  },
  {
   "cell_type": "code",
   "execution_count": 23,
   "id": "c1167abf",
   "metadata": {
    "ExecuteTime": {
     "end_time": "2022-06-22T02:21:19.624090Z",
     "start_time": "2022-06-22T02:03:30.348089Z"
    }
   },
   "outputs": [
    {
     "name": "stdout",
     "output_type": "stream",
     "text": [
      "iteration: 1 of 132 EPISODES:  5 , 5\n",
      "iteration: 2 of 132 EPISODES:  2 , 2\n",
      "iteration: 3 of 132 EPISODES:  8 , 8\n",
      "iteration: 4 of 132 EPISODES:  13 , 13\n",
      "iteration: 5 of 132 EPISODES:  22 , 22\n",
      "iteration: 6 of 132 EPISODES:  18 , 18\n",
      "iteration: 7 of 132 EPISODES:  7 , 7\n",
      "iteration: 8 of 132 EPISODES:  22 , 22\n",
      "iteration: 9 of 132 EPISODES:  22 , 22\n",
      "iteration: 10 of 132 EPISODES:  20 , 20\n",
      "iteration: 11 of 132 EPISODES:  9 , 9\n",
      "iteration: 12 of 132 EPISODES:  9 , 9\n",
      "iteration: 13 of 132 EPISODES:  18 , 18\n",
      "iteration: 14 of 132 EPISODES:  22 , 22\n",
      "iteration: 15 of 132 EPISODES:  16 , 16\n",
      "iteration: 16 of 132 EPISODES:  10 , 10\n",
      "iteration: 17 of 132 EPISODES:  6 , 6\n",
      "iteration: 18 of 132 EPISODES:  8 , 8\n",
      "iteration: 19 of 132 EPISODES:  12 , 12\n",
      "iteration: 20 of 132 EPISODES:  6 , 6\n",
      "iteration: 21 of 132 EPISODES:  16 , 16\n",
      "iteration: 22 of 132 EPISODES:  10 , 10\n",
      "iteration: 23 of 132 EPISODES:  8 , 8\n",
      "iteration: 24 of 132 EPISODES:  8 , 8\n",
      "iteration: 25 of 132 EPISODES:  13 , 13\n",
      "iteration: 26 of 132 EPISODES:  6 , 6\n",
      "iteration: 27 of 132 EPISODES:  8 , 8\n",
      "iteration: 28 of 132 EPISODES:  13 , 13\n",
      "iteration: 29 of 132 EPISODES:  8 , 8\n",
      "iteration: 30 of 132 EPISODES:  8 , 8\n",
      "iteration: 31 of 132 EPISODES:  7 , 7\n",
      "iteration: 32 of 132 EPISODES:  8 , 8\n",
      "iteration: 33 of 132 EPISODES:  7 , 7\n",
      "iteration: 34 of 132 EPISODES:  8 , 8\n",
      "iteration: 35 of 132 EPISODES:  12 , 12\n",
      "iteration: 36 of 132 EPISODES:  7 , 7\n",
      "iteration: 37 of 132 EPISODES:  6 , 6\n",
      "iteration: 38 of 132 EPISODES:  10 , 10\n",
      "iteration: 39 of 132 EPISODES:  10 , 10\n",
      "iteration: 40 of 132 EPISODES:  10 , 10\n",
      "iteration: 41 of 132 EPISODES:  8 , 8\n",
      "iteration: 42 of 132 EPISODES:  8 , 8\n",
      "iteration: 43 of 132 EPISODES:  6 , 6\n",
      "iteration: 44 of 132 EPISODES:  6 , 6\n",
      "iteration: 45 of 132 EPISODES:  10 , 10\n",
      "iteration: 46 of 132 EPISODES:  8 , 8\n",
      "iteration: 47 of 132 EPISODES:  4 , 4\n",
      "iteration: 48 of 132 EPISODES:  9 , 9\n",
      "iteration: 49 of 132 EPISODES:  7 , 7\n",
      "iteration: 50 of 132 EPISODES:  3 , 3\n",
      "iteration: 51 of 132 EPISODES:  10 , 10\n",
      "iteration: 52 of 132 EPISODES:  10 , 10\n",
      "iteration: 53 of 132 EPISODES:  12 , 12\n",
      "iteration: 54 of 132 EPISODES:  6 , 6\n",
      "iteration: 55 of 132 EPISODES:  10 , 10\n",
      "iteration: 56 of 132 EPISODES:  8 , 8\n",
      "iteration: 57 of 132 EPISODES:  10 , 10\n",
      "iteration: 58 of 132 EPISODES:  20 , 20\n",
      "iteration: 59 of 132 EPISODES:  10 , 10\n",
      "iteration: 60 of 132 EPISODES:  7 , 7\n",
      "iteration: 61 of 132 EPISODES:  22 , 22\n",
      "iteration: 62 of 132 EPISODES:  8 , 8\n",
      "iteration: 63 of 132 EPISODES:  8 , 8\n",
      "iteration: 64 of 132 EPISODES:  9 , 9\n",
      "iteration: 65 of 132 EPISODES:  12 , 12\n",
      "iteration: 66 of 132 EPISODES:  8 , 8\n",
      "iteration: 67 of 132 EPISODES:  9 , 9\n",
      "iteration: 68 of 132 EPISODES:  12 , 12\n",
      "iteration: 69 of 132 EPISODES:  10 , 10\n",
      "iteration: 70 of 132 EPISODES:  8 , 8\n",
      "iteration: 71 of 132 EPISODES:  20 , 20\n",
      "iteration: 72 of 132 EPISODES:  8 , 8\n",
      "iteration: 73 of 132 EPISODES:  10 , 10\n",
      "iteration: 74 of 132 EPISODES:  10 , 10\n",
      "iteration: 75 of 132 EPISODES:  11 , 11\n",
      "iteration: 76 of 132 EPISODES:  18 , 18\n",
      "iteration: 77 of 132 EPISODES:  14 , 14\n",
      "iteration: 78 of 132 EPISODES:  8 , 8\n",
      "iteration: 79 of 132 EPISODES:  8 , 8\n",
      "iteration: 80 of 132 EPISODES:  8 , 8\n",
      "iteration: 81 of 132 EPISODES:  22 , 22\n",
      "iteration: 82 of 132 EPISODES:  8 , 8\n",
      "iteration: 83 of 132 EPISODES:  10 , 10\n",
      "iteration: 84 of 132 EPISODES:  22 , 22\n",
      "iteration: 85 of 132 EPISODES:  13 , 13\n",
      "iteration: 86 of 132 EPISODES:  10 , 10\n",
      "iteration: 87 of 132 EPISODES:  20 , 20\n",
      "iteration: 88 of 132 EPISODES:  6 , 6\n",
      "iteration: 89 of 132 EPISODES:  6 , 6\n",
      "iteration: 90 of 132 EPISODES:  10 , 10\n",
      "iteration: 91 of 132 EPISODES:  10 , 10\n",
      "iteration: 92 of 132 EPISODES:  8 , 8\n",
      "iteration: 93 of 132 EPISODES:  20 , 20\n",
      "iteration: 94 of 132 EPISODES:  10 , 10\n",
      "iteration: 95 of 132 EPISODES:  16 , 16\n",
      "iteration: 96 of 132 EPISODES:  15 , 15\n",
      "iteration: 97 of 132 EPISODES:  6 , 6\n",
      "iteration: 98 of 132 EPISODES:  9 , 9\n",
      "iteration: 99 of 132 EPISODES:  11 , 11\n",
      "iteration: 100 of 132 EPISODES:  16 , 16\n",
      "iteration: 101 of 132 EPISODES:  10 , 10\n",
      "iteration: 102 of 132 EPISODES:  16 , 16\n",
      "iteration: 103 of 132 EPISODES:  4 , 4\n",
      "iteration: 104 of 132 EPISODES:  10 , 10\n",
      "iteration: 105 of 132 EPISODES:  16 , 16\n",
      "iteration: 106 of 132 EPISODES:  16 , 16\n",
      "iteration: 107 of 132 EPISODES:  14 , 14\n",
      "iteration: 108 of 132 EPISODES:  8 , 8\n",
      "iteration: 109 of 132 EPISODES:  4 , 4\n",
      "iteration: 110 of 132 EPISODES:  12 , 12\n",
      "iteration: 111 of 132 EPISODES:  10 , 10\n",
      "iteration: 112 of 132 EPISODES:  22 , 22\n",
      "iteration: 113 of 132 EPISODES:  6 , 6\n",
      "iteration: 114 of 132 EPISODES:  10 , 10\n",
      "iteration: 115 of 132 EPISODES:  13 , 13\n",
      "iteration: 116 of 132 EPISODES:  14 , 14\n",
      "iteration: 117 of 132 EPISODES:  10 , 10\n",
      "iteration: 118 of 132 EPISODES:  2 , 2\n",
      "iteration: 119 of 132 EPISODES:  0 , 1\n",
      "iteration: 120 of 132 EPISODES:  8 , 8\n",
      "iteration: 121 of 132 EPISODES:  12 , 12\n",
      "iteration: 122 of 132 EPISODES:  13 , 13\n",
      "iteration: 123 of 132 EPISODES:  4 , 4\n",
      "iteration: 124 of 132 EPISODES:  10 , 10\n",
      "iteration: 125 of 132 EPISODES:  10 , 10\n",
      "iteration: 126 of 132 EPISODES:  10 , 10\n",
      "iteration: 127 of 132 EPISODES:  9 , 9\n",
      "iteration: 128 of 132 EPISODES:  10 , 10\n",
      "iteration: 129 of 132 EPISODES:  5 , 5\n",
      "iteration: 130 of 132 EPISODES:  2 , 2\n",
      "iteration: 131 of 132 EPISODES:  3 , 3\n",
      "iteration: 132 of 132 EPISODES:  3 , 3\n"
     ]
    }
   ],
   "source": [
    "for i in range(len(LINKS)):\n",
    "    \n",
    "    EP = []          # episode list\n",
    "    DWL = []         # download link list\n",
    "    \n",
    "    driver.get(LINKS[i])\n",
    "    time.sleep(6)\n",
    "    html2 = driver.page_source\n",
    "    soup2 = BeautifulSoup(html2, 'html.parser')\n",
    "    \n",
    "    linkss = soup2.find_all('source', type='video/mp4')\n",
    "    ep_names = soup2.find_all('h2')\n",
    "    \n",
    "    for jj in ep_names:\n",
    "        for nn in (jj.find_all('span')):\n",
    "            Ep_name = nn.text\n",
    "            if nn is None:\n",
    "                EP.append(\"\")\n",
    "            else:\n",
    "                EP.append(Ep_name)\n",
    "    \n",
    "    for j in range(len(linkss)):\n",
    "        d_link = linkss[j]['src']\n",
    "        DWL.append(d_link)\n",
    "        \n",
    "        \n",
    "        \n",
    "    episodes_name_list.append(EP)\n",
    "    download_links_list.append(DWL)\n",
    "    print('iteration:',i+1, \"of\", len(LINKS),\"EPISODES: \", len(EP),\",\",len(DWL))"
   ]
  },
  {
   "cell_type": "code",
   "execution_count": 24,
   "id": "be8e3a09",
   "metadata": {
    "ExecuteTime": {
     "end_time": "2022-06-22T07:04:03.436294Z",
     "start_time": "2022-06-22T07:04:01.150623Z"
    }
   },
   "outputs": [],
   "source": [
    "# run when above loop completes.\n",
    "\n",
    "driver.close()"
   ]
  },
  {
   "cell_type": "code",
   "execution_count": 31,
   "id": "a3eb9286",
   "metadata": {
    "ExecuteTime": {
     "end_time": "2022-06-22T07:06:09.328274Z",
     "start_time": "2022-06-22T07:06:09.309285Z"
    }
   },
   "outputs": [],
   "source": [
    "for i in range(len(episodes_name_list)):\n",
    "    if len(episodes_name_list[i])<len(download_links_list[i]):\n",
    "        for j in range(len(episodes_name_list[i]),len(download_links_list[i])):\n",
    "            episodes_name_list[i].append(\"\")"
   ]
  },
  {
   "cell_type": "markdown",
   "id": "1275e8bf",
   "metadata": {},
   "source": [
    "#### Removing Special Characters from episodenames & shownames"
   ]
  },
  {
   "cell_type": "code",
   "execution_count": 32,
   "id": "aa2d93f0",
   "metadata": {
    "ExecuteTime": {
     "end_time": "2022-06-22T07:06:11.327337Z",
     "start_time": "2022-06-22T07:06:11.292368Z"
    }
   },
   "outputs": [],
   "source": [
    "for i in range(len(SHOW_NAMES)):\n",
    "    SHOW_NAMES[i] = SHOW_NAMES[i].translate ({ord(c): \"\" for c in \"!@#$%^&*()[]{};:,./<>?\\|`~-=_+\"})\n",
    "    for j in range(len(episodes_name_list[i])):\n",
    "        episodes_name_list[i][j] = episodes_name_list[i][j].translate ({ord(c): \"\" for c in \"!@#$%^&*()[]{};:,./<>?\\|`~-=_+\"})\n",
    "        "
   ]
  },
  {
   "cell_type": "markdown",
   "id": "4198de4b",
   "metadata": {},
   "source": [
    "## Make Folders"
   ]
  },
  {
   "cell_type": "code",
   "execution_count": 33,
   "id": "51dd6e9a",
   "metadata": {
    "ExecuteTime": {
     "end_time": "2022-06-22T07:06:13.718757Z",
     "start_time": "2022-06-22T07:06:13.700769Z"
    }
   },
   "outputs": [],
   "source": [
    "def folders():\n",
    "    for i in range(len(SHOW_NAMES)):\n",
    "        SHOW_NAMES[i]= SHOW_NAMES[i].replace(':',\"\")\n",
    "        SHOW_NAMES[i]= SHOW_NAMES[i].replace('?',\"\")\n",
    "        path_ = str(SHOW_NAMES[i])\n",
    "        os.mkdir(path_)\n",
    "        "
   ]
  },
  {
   "cell_type": "markdown",
   "id": "59aed57a",
   "metadata": {},
   "source": [
    "#### Run this cell to create directories."
   ]
  },
  {
   "cell_type": "code",
   "execution_count": null,
   "id": "bc122d31",
   "metadata": {
    "ExecuteTime": {
     "end_time": "2022-06-22T00:28:29.250878Z",
     "start_time": "2022-06-22T00:28:29.184914Z"
    }
   },
   "outputs": [],
   "source": [
    "folders()"
   ]
  },
  {
   "cell_type": "markdown",
   "id": "c1cc096c",
   "metadata": {},
   "source": [
    "### Create flat lists of LINKS and EPISODE NAMES"
   ]
  },
  {
   "cell_type": "code",
   "execution_count": 34,
   "id": "fdea3609",
   "metadata": {
    "ExecuteTime": {
     "end_time": "2022-06-22T07:06:15.912165Z",
     "start_time": "2022-06-22T07:06:15.898176Z"
    }
   },
   "outputs": [],
   "source": [
    "from collections import Iterable\n",
    "def flatten(lis):\n",
    "     for item in lis:\n",
    "        if isinstance(item, Iterable) and not isinstance(item, str):\n",
    "            for x in flatten(item):\n",
    "                yield x\n",
    "        else:        \n",
    "            yield item"
   ]
  },
  {
   "cell_type": "code",
   "execution_count": 35,
   "id": "28341328",
   "metadata": {
    "ExecuteTime": {
     "end_time": "2022-06-22T07:06:16.421862Z",
     "start_time": "2022-06-22T07:06:16.410860Z"
    }
   },
   "outputs": [
    {
     "name": "stdout",
     "output_type": "stream",
     "text": [
      "1376\n"
     ]
    }
   ],
   "source": [
    "newlinks = list(flatten(download_links_list))\n",
    "print(len(newlinks))\n"
   ]
  },
  {
   "cell_type": "code",
   "execution_count": 36,
   "id": "bd1bf430",
   "metadata": {
    "ExecuteTime": {
     "end_time": "2022-06-22T07:06:17.202684Z",
     "start_time": "2022-06-22T07:06:17.180698Z"
    }
   },
   "outputs": [
    {
     "name": "stdout",
     "output_type": "stream",
     "text": [
      "1376\n"
     ]
    }
   ],
   "source": [
    "newepisodes = list(flatten(episodes_name_list))\n",
    "print(len(newepisodes))"
   ]
  },
  {
   "cell_type": "markdown",
   "id": "64a8e63e",
   "metadata": {},
   "source": [
    "##### the above numbers must be equal"
   ]
  },
  {
   "cell_type": "code",
   "execution_count": null,
   "id": "0d9f82cf",
   "metadata": {
    "ExecuteTime": {
     "end_time": "2022-06-22T00:39:24.812592Z",
     "start_time": "2022-06-22T00:39:24.802598Z"
    }
   },
   "outputs": [],
   "source": [
    "def getData(url:str):\n",
    "    indx = newlinks.index(url)\n",
    "    fname = newepisodes[indx]\n",
    "    \n",
    "    for i in range(len(episodes_name_list)):\n",
    "        if fname in episodes_name_list[i]:\n",
    "            FOLDER = SHOW_NAMES[i]\n",
    "            ep_num = episodes_name_list[i].index(fname)\n",
    "    \n",
    "    show_file = f\"{FOLDER}/{ep_num}_{fname}.mkv\"\n",
    "    print(f\"Downloading......{fname}\")\n",
    "    with requests.get(url=url, allow_redirects=True, stream=True, timeout=30) as r:\n",
    "        with open(show_file, 'wb') as writefile:\n",
    "            shutil.copyfileobj(r.raw, writefile)\n",
    "    print('Downloaded','\\n')    "
   ]
  },
  {
   "cell_type": "markdown",
   "id": "c64a1b7c",
   "metadata": {},
   "source": [
    "# Run the below cell to begin the show."
   ]
  },
  {
   "cell_type": "code",
   "execution_count": null,
   "id": "e5f2c27a",
   "metadata": {
    "ExecuteTime": {
     "start_time": "2022-06-22T00:39:29.088Z"
    }
   },
   "outputs": [],
   "source": [
    "#Multi-threading\n",
    "with ThreadPoolExecutor(max_workers=1) as executor:\n",
    "    executor.map(getData, newlinks)"
   ]
  }
 ],
 "metadata": {
  "kernelspec": {
   "display_name": "Python 3 (ipykernel)",
   "language": "python",
   "name": "python3"
  },
  "language_info": {
   "codemirror_mode": {
    "name": "ipython",
    "version": 3
   },
   "file_extension": ".py",
   "mimetype": "text/x-python",
   "name": "python",
   "nbconvert_exporter": "python",
   "pygments_lexer": "ipython3",
   "version": "3.9.7"
  },
  "latex_envs": {
   "LaTeX_envs_menu_present": true,
   "autoclose": true,
   "autocomplete": true,
   "bibliofile": "biblio.bib",
   "cite_by": "apalike",
   "current_citInitial": 1,
   "eqLabelWithNumbers": true,
   "eqNumInitial": 1,
   "hotkeys": {
    "equation": "Ctrl-E",
    "itemize": "Ctrl-I"
   },
   "labels_anchors": false,
   "latex_user_defs": false,
   "report_style_numbering": true,
   "user_envs_cfg": true
  },
  "varInspector": {
   "cols": {
    "lenName": 16,
    "lenType": 16,
    "lenVar": 40
   },
   "kernels_config": {
    "python": {
     "delete_cmd_postfix": "",
     "delete_cmd_prefix": "del ",
     "library": "var_list.py",
     "varRefreshCmd": "print(var_dic_list())"
    },
    "r": {
     "delete_cmd_postfix": ") ",
     "delete_cmd_prefix": "rm(",
     "library": "var_list.r",
     "varRefreshCmd": "cat(var_dic_list()) "
    }
   },
   "types_to_exclude": [
    "module",
    "function",
    "builtin_function_or_method",
    "instance",
    "_Feature"
   ],
   "window_display": false
  }
 },
 "nbformat": 4,
 "nbformat_minor": 5
}
